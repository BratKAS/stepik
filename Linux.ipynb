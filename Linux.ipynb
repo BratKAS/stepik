{
 "cells": [
  {
   "cell_type": "markdown",
   "id": "bd324271-0e93-4ef9-b7c3-3019436c3b49",
   "metadata": {},
   "source": [
    "# Основы Linux\n",
    "### https://stepik.org/course/762/syllabus\n"
   ]
  }
 ],
 "metadata": {
  "kernelspec": {
   "display_name": "Python 3 (ipykernel)",
   "language": "python",
   "name": "python3"
  },
  "language_info": {
   "codemirror_mode": {
    "name": "ipython",
    "version": 3
   },
   "file_extension": ".py",
   "mimetype": "text/x-python",
   "name": "python",
   "nbconvert_exporter": "python",
   "pygments_lexer": "ipython3",
   "version": "3.12.4"
  }
 },
 "nbformat": 4,
 "nbformat_minor": 5
}
