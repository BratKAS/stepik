{
 "cells": [
  {
   "cell_type": "markdown",
   "id": "c54c57d0-1157-45f6-97a5-2e05b3208702",
   "metadata": {},
   "source": [
    "# «Профессия — Белый Хакер»\n",
    "### https://stepik.org/course/169003/syllabus\n",
    "\n"
   ]
  },
  {
   "cell_type": "code",
   "execution_count": null,
   "id": "05f06856-04d5-4b72-a5f9-d18157619f9d",
   "metadata": {},
   "outputs": [],
   "source": []
  }
 ],
 "metadata": {
  "kernelspec": {
   "display_name": "Python 3 (ipykernel)",
   "language": "python",
   "name": "python3"
  },
  "language_info": {
   "codemirror_mode": {
    "name": "ipython",
    "version": 3
   },
   "file_extension": ".py",
   "mimetype": "text/x-python",
   "name": "python",
   "nbconvert_exporter": "python",
   "pygments_lexer": "ipython3",
   "version": "3.12.4"
  }
 },
 "nbformat": 4,
 "nbformat_minor": 5
}
