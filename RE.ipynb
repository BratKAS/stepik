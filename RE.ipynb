{
 "cells": [
  {
   "cell_type": "markdown",
   "id": "85aead3b-0779-4fb1-901a-3c262228ff7a",
   "metadata": {},
   "source": [
    "# Упражнения по модулю re"
   ]
  },
  {
   "cell_type": "markdown",
   "id": "bb8ce8d2-5436-4e3a-b38a-ea9d117004bd",
   "metadata": {},
   "source": [
    "## Задание 1: Поиск email-адресов\n",
    "Исходные данные:\n",
    "```\n",
    "text = \"\"\"\n",
    "Привет, меня зовут Алекс. Мой email: alex@example.com.\n",
    "Вы можете связаться со мной по адресу: contact@mywebsite.org.\n",
    "Не пишите на: invalid-email@.com или @missingusername.com.\n",
    "\"\"\"\n",
    "```\n",
    "Условие: **Найдите все корректные email-адреса, которые содержат домен .com или .org.**"
   ]
  },
  {
   "cell_type": "code",
   "execution_count": 64,
   "id": "0a2cd029-629f-4cfd-987f-0c8336409dea",
   "metadata": {},
   "outputs": [
    {
     "name": "stdout",
     "output_type": "stream",
     "text": [
      "alex@example.com\n",
      "contact@mywebsite.org\n"
     ]
    }
   ],
   "source": [
    "import re\n",
    "\n",
    "text = \"\"\"\n",
    "Привет, меня зовут Алекс. Мой email: alex@example.com.\n",
    "Вы можете связаться со мной по адресу: contact@mywebsite.org.\n",
    "Не пишите на: invalid-email@.com или @missingusername.com.\n",
    "\"\"\"\n",
    "\n",
    "pattern = r'\\w+@\\w+\\.(org|com)'\n",
    "\n",
    "res = re.finditer(pattern, text)\n",
    "for match_obj in res:\n",
    "    print(match_obj.group())"
   ]
  },
  {
   "cell_type": "markdown",
   "id": "7ad765fa-02ed-4b9b-bd4d-413c3cbf6bf0",
   "metadata": {},
   "source": [
    "## Задание 2: Извлечение телефонных номеров\n",
    "Исходные данные:\n",
    "```\n",
    "text = \"\"\"\n",
    "Звоните по телефону: (123) 456-7890 или 987-654-3210.\n",
    "Вы также можете позвонить на 1234567890. Не звоните на 123-45-6789.\n",
    "\"\"\"\n",
    "```\n",
    "\n",
    "Условие: **Найдите все корректные телефонные номера в формате (XXX) XXX-XXXX, XXX-XXX-XXXX и XXXXXXXXXX.**"
   ]
  },
  {
   "cell_type": "code",
   "execution_count": 76,
   "id": "f10c830c-843e-4cd4-96ac-4178c1f3931a",
   "metadata": {},
   "outputs": [
    {
     "name": "stdout",
     "output_type": "stream",
     "text": [
      "(123) 456-7890\n",
      "987-654-3210\n",
      "1234567890\n"
     ]
    }
   ],
   "source": [
    "import re\n",
    "\n",
    "text = \"\"\"\n",
    "Звоните по телефону: (123) 456-7890 или 987-654-3210.\n",
    "Вы также можете позвонить на 1234567890. Не звоните на 123-45-6789.\n",
    "\"\"\"\n",
    "\n",
    "pattern = r'\\([0-9]{3}\\) [0-9]{3}-[0-9]{4}|([0-9]{3}-){2}[0-9]{4}|\\d{10}'\n",
    "\n",
    "res = re.finditer(pattern, text)\n",
    "for match_obj in res:\n",
    "    print(match_obj.group())"
   ]
  },
  {
   "cell_type": "markdown",
   "id": "4c2841b7-b173-4aeb-8d4b-0251ecbb44d2",
   "metadata": {},
   "source": [
    "## Задание 3: Поиск дат\n",
    "Исходные данные:\n",
    "```\n",
    "text = \"\"\"\n",
    "Событие состоится 12/05/2023 и 1/6/2023. \n",
    "Не забудьте про даты 31/12/2022 и 02/03/2024!\n",
    "\"\"\"\n",
    "```\n",
    "\n",
    "Условие: **Найдите все даты в формате DD/MM/YYYY или D/M/YYYY.**"
   ]
  },
  {
   "cell_type": "code",
   "execution_count": 80,
   "id": "df7e83fc-0f02-429f-a6e1-75775e60ea51",
   "metadata": {},
   "outputs": [
    {
     "name": "stdout",
     "output_type": "stream",
     "text": [
      "['12/05/2023', '1/6/2023', '31/12/2022', '02/03/2024']\n"
     ]
    }
   ],
   "source": [
    "import re\n",
    "\n",
    "text = \"\"\"\n",
    "Событие состоится 12/05/2023 и 1/6/2023. \n",
    "Не забудьте про даты 31/12/2022 и 02/03/2024!\n",
    "\"\"\"\n",
    "\n",
    "pattern = r'\\d+/\\d+/\\d{4}'\n",
    "\n",
    "res = re.findall(pattern, text)\n",
    "print(res)"
   ]
  },
  {
   "cell_type": "markdown",
   "id": "a41a52ad-f0a6-4c0d-a2fd-4a906dfed7da",
   "metadata": {},
   "source": [
    "## Задание 4: Извлечение хештегов\n",
    "\n",
    "Исходные данные:\n",
    "```\n",
    "text = \"\"\"\n",
    "Сегодня я изучал #Python и #РегулярныеВыражения. \n",
    "Также мне понравился #coding и #AI!\n",
    "\"\"\"\n",
    "```\n",
    "\n",
    "Условие: **Найдите все хештеги в тексте.**"
   ]
  },
  {
   "cell_type": "code",
   "execution_count": 82,
   "id": "39bbdb5f-4387-4ba0-b487-7effd3a5470c",
   "metadata": {},
   "outputs": [
    {
     "name": "stdout",
     "output_type": "stream",
     "text": [
      "['#Python', '#РегулярныеВыражения', '#coding', '#AI']\n"
     ]
    }
   ],
   "source": [
    "import re\n",
    "\n",
    "text = \"\"\"\n",
    "Сегодня я изучал #Python и #РегулярныеВыражения. \n",
    "Также мне понравился #coding и #AI!\n",
    "\"\"\"\n",
    "\n",
    "pattern = r'#\\w+'\n",
    "\n",
    "res = re.findall(pattern, text)\n",
    "print(res)"
   ]
  },
  {
   "cell_type": "markdown",
   "id": "84b62503-7a1d-44eb-bfa7-ca2d94a30d4c",
   "metadata": {},
   "source": [
    "## Задание 5: Поиск URL\n",
    "\n",
    "Исходные данные:\n",
    "```\n",
    "text = \"\"\"\n",
    "Посетите наш сайт по адресу http://example.com и https://secure-site.org.\n",
    "Не переходите по ссылке ftp://files.example.com.\n",
    "\"\"\"\n",
    "```\n",
    "\n",
    "Условие: **Найдите все URL, начинающиеся с http, https или ftp.**"
   ]
  },
  {
   "cell_type": "code",
   "execution_count": 96,
   "id": "a6fb9969-6fa4-400e-8629-db926824c778",
   "metadata": {},
   "outputs": [
    {
     "name": "stdout",
     "output_type": "stream",
     "text": [
      "http://example.com\n",
      "https://secure-site.org\n",
      "ftp://files.example.com\n"
     ]
    }
   ],
   "source": [
    "import re\n",
    "\n",
    "text = \"\"\"\n",
    "Посетите наш сайт по адресу http://example.com и https://secure-site.org.\n",
    "Не переходите по ссылке ftp://files.example.com.\n",
    "\"\"\"\n",
    "\n",
    "pattern = r'(http|https|ftp)\\S+\\w'\n",
    "\n",
    "res = re.finditer(pattern, text)\n",
    "for match_obj in res:\n",
    "    print(match_obj.group())"
   ]
  },
  {
   "cell_type": "markdown",
   "id": "3dc7a8b7-42ff-4176-bf70-a92d7f3015bb",
   "metadata": {},
   "source": [
    "## Задание 6: Поиск слов с цифрами\n",
    "\n",
    "Исходные данные:\n",
    "```\n",
    "text = \"\"\"\n",
    "Вот несколько примеров: abc123, helloWorld, test1, 123abc, и просто текст.\n",
    "\"\"\"\n",
    "```\n",
    "\n",
    "Условие: **Найдите все слова, содержащие хотя бы одну цифру и одну букву.**"
   ]
  },
  {
   "cell_type": "code",
   "execution_count": 100,
   "id": "f22c9f0d-2f80-40fe-a05d-57f0907e0f3a",
   "metadata": {},
   "outputs": [
    {
     "name": "stdout",
     "output_type": "stream",
     "text": [
      "['abc123', 'test1', '123abc']\n"
     ]
    }
   ],
   "source": [
    "import re\n",
    "\n",
    "text = \"\"\"\n",
    "Вот несколько примеров: abc123, helloWorld, test1, 123abc, и просто текст.\n",
    "\"\"\"\n",
    "\n",
    "pattern = r'\\b(?=\\w*[a-zA-Z])(?=\\w*\\d)\\w+\\b'\n",
    "\n",
    "res = re.findall(pattern, text)\n",
    "print(res)"
   ]
  },
  {
   "cell_type": "markdown",
   "id": "00dc2dca-ed96-4f1e-97c1-f04881d0aea2",
   "metadata": {},
   "source": [
    "## Задание 7: Извлечение ключей и значений\n",
    "Исходные данные:\n",
    "```\n",
    "text = \"name=Alex; age=30; city=Moscow; profession=developer;\"\n",
    "```\n",
    "Условие: **Извлеките все ключи и значения из строки.**"
   ]
  },
  {
   "cell_type": "code",
   "execution_count": 109,
   "id": "0a8129bb-77e6-481b-a04e-78c26441f63c",
   "metadata": {},
   "outputs": [
    {
     "name": "stdout",
     "output_type": "stream",
     "text": [
      "[('name', 'Alex'), ('age', '30'), ('city', 'Moscow'), ('profession', 'developer')]\n",
      "{'name': 'Alex', 'age': '30', 'city': 'Moscow', 'profession': 'developer'}\n"
     ]
    }
   ],
   "source": [
    "# способ 1\n",
    "import re\n",
    "\n",
    "text = \"name=Alex; age=30; city=Moscow; profession=developer;\"\n",
    "pattern = r'(\\w+)=(\\w+)'\n",
    "\n",
    "matches = re.findall(pattern, text)\n",
    "print(matches)\n",
    "\n",
    "# Преобразуем в словарь\n",
    "result_dict = {key: value for key, value in matches}\n",
    "\n",
    "print(result_dict)"
   ]
  },
  {
   "cell_type": "code",
   "execution_count": 110,
   "id": "ad037d6e-2e86-4e26-9de3-0c521e5ae18a",
   "metadata": {},
   "outputs": [
    {
     "name": "stdout",
     "output_type": "stream",
     "text": [
      "{'name': 'Alex', 'age': '30', 'city': 'Moscow', 'profession': 'developer'}\n"
     ]
    }
   ],
   "source": [
    "# способ 2\n",
    "import re\n",
    "\n",
    "text = \"name=Alex; age=30; city=Moscow; profession=developer;\"\n",
    "\n",
    "# Используем регулярное выражение с именованными группами\n",
    "pattern = r'(?P<key>\\w+)=(?P<value>\\w+)'\n",
    "\n",
    "matches = re.finditer(pattern, text)\n",
    "\n",
    "# Создаем словарь с помощью groupdict()\n",
    "result_dict = {match.group('key'): match.group('value') for match in matches}\n",
    "\n",
    "print(result_dict)"
   ]
  },
  {
   "cell_type": "markdown",
   "id": "9193c0b6-51fa-4394-858f-9ef57d69c6fc",
   "metadata": {},
   "source": [
    "## Задание 8: Проверка имен пользователей\n",
    "\n",
    "Исходные данные:\n",
    "```\n",
    "usernames = [\"user123\", \"1stUser\", \"_hiddenUser\", \"invalid-user!\", \"another_user\"]\n",
    "```\n",
    "\n",
    "Условие: **Найдите все корректные имена пользователей (допустим, только буквы, цифры и символы _, начинается с буквы).**"
   ]
  },
  {
   "cell_type": "code",
   "execution_count": 113,
   "id": "1b49451d-f0ca-4dea-9e7f-e7b6de1f4cbf",
   "metadata": {},
   "outputs": [
    {
     "name": "stdout",
     "output_type": "stream",
     "text": [
      "['user123', 'another_user']\n"
     ]
    }
   ],
   "source": [
    "import re\n",
    "\n",
    "usernames = [\"user123\", \"1stUser\", \"_hiddenUser\", \"invalid-user!\", \"another_user\"]\n",
    "pattern = r'^[a-zA-Z][a-zA-Z0-9_]*$'\n",
    "\n",
    "valid_usernames = [username for username in usernames if re.match(pattern, username)]\n",
    "\n",
    "print(valid_usernames)"
   ]
  },
  {
   "cell_type": "markdown",
   "id": "e3d923d3-5a5e-4ba0-9858-22ba57636f08",
   "metadata": {},
   "source": [
    "## Задание 9: Поиск целых чисел\n",
    "\n",
    "Исходные данные:\n",
    "```\n",
    "text = \"Здесь есть числа: -10, 20, 30, -5, и 0.\"\n",
    "```\n",
    "\n",
    "Условие: **Найдите все целые числа, включая отрицательные.**"
   ]
  },
  {
   "cell_type": "code",
   "execution_count": 115,
   "id": "fe50ff3d-0fd6-495f-978e-e5c36494c60f",
   "metadata": {},
   "outputs": [
    {
     "name": "stdout",
     "output_type": "stream",
     "text": [
      "['-10', '20', '30', '-5', '0']\n"
     ]
    }
   ],
   "source": [
    "import re\n",
    "\n",
    "text = \"Здесь есть числа: -10, 20, 30, -5, и 0.\"\n",
    "pattern = r'-{0,1}\\d+'\n",
    "\n",
    "res = re.findall(pattern, text)\n",
    "print(res)"
   ]
  },
  {
   "cell_type": "markdown",
   "id": "49afb03d-9cda-4b7d-b02f-805b6ab3ea7b",
   "metadata": {},
   "source": [
    "## Задание 10: Извлечение уникальных слов\n",
    "\n",
    "Исходные данные:\n",
    "```\n",
    "text = \"Привет мир! Привет всем! Мир прекрасен.\"\n",
    "```\n",
    "\n",
    "Условие: **Извлеките все уникальные слова из текста (игнорируя регистр и знаки препинания).**"
   ]
  },
  {
   "cell_type": "code",
   "execution_count": 121,
   "id": "f7232cd3-29d0-4993-964b-91774349561a",
   "metadata": {},
   "outputs": [
    {
     "name": "stdout",
     "output_type": "stream",
     "text": [
      "['всем', 'мир', 'прекрасен', 'привет']\n"
     ]
    }
   ],
   "source": [
    "import re\n",
    "\n",
    "text = \"Привет мир! Привет всем! Мир прекрасен.\"\n",
    "\n",
    "# Приводим текст к нижнему регистру\n",
    "text_lower = text.lower()\n",
    "\n",
    "# Используем регулярное выражение для поиска всех слов\n",
    "words = re.findall(r'\\b\\w+\\b', text_lower)\n",
    "\n",
    "# Преобразуем список слов в множество для получения уникальных слов\n",
    "unique_words = set(words)\n",
    "\n",
    "# Преобразуем множество обратно в список и сортируем (по желанию)\n",
    "unique_words_sorted = sorted(unique_words)\n",
    "\n",
    "print(unique_words_sorted)"
   ]
  }
 ],
 "metadata": {
  "kernelspec": {
   "display_name": "Python 3 (ipykernel)",
   "language": "python",
   "name": "python3"
  },
  "language_info": {
   "codemirror_mode": {
    "name": "ipython",
    "version": 3
   },
   "file_extension": ".py",
   "mimetype": "text/x-python",
   "name": "python",
   "nbconvert_exporter": "python",
   "pygments_lexer": "ipython3",
   "version": "3.12.4"
  }
 },
 "nbformat": 4,
 "nbformat_minor": 5
}
