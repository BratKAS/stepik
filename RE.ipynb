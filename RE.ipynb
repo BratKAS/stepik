{
 "cells": [
  {
   "cell_type": "code",
   "execution_count": 3,
   "id": "15ce69c4-9da2-4d50-b7bb-4f87c2c12d96",
   "metadata": {},
   "outputs": [
    {
     "name": "stdout",
     "output_type": "stream",
     "text": [
      "<re.Match object; span=(8, 20), match='ось Черепаха'>\n"
     ]
    }
   ],
   "source": [
    "import re\n",
    "\n",
    "\n",
    "# Строка с текстом\n",
    "text = \"Лиса Лосось Черепаха Заяц Волк Тюлень\"\n",
    "\n",
    "# Создание объекта регулярного выражения\n",
    "regexp_pattern = re.compile(r\"ось.\\bЧерепаха\\b\")\n",
    "\n",
    "# Вызов функции search() через объект регулярного выражения\n",
    "res = regexp_pattern.search(text)\n",
    "\n",
    "# Вывод результата\n",
    "print(f\"{res}\")"
   ]
  },
  {
   "cell_type": "code",
   "execution_count": 29,
   "id": "045aca6a-153a-4dbe-9e08-be73e46a80e6",
   "metadata": {},
   "outputs": [
    {
     "name": "stdout",
     "output_type": "stream",
     "text": [
      "Лиса; Лосось; Черепаха; Заяц#Волк#Тюлень\n"
     ]
    }
   ],
   "source": [
    "regexp_pattern = r\"\\s\"\n",
    "replace_value = \"; \"\n",
    "# Вызов функции sub()\n",
    "res = re.sub(regexp_pattern, replace_value, text, count=3)\n",
    "regexp_pattern = r\"([а-я])\\s+\"\n",
    "replace_value = r\"\\1#\"\n",
    "res = re.sub(regexp_pattern, replace_value, res, count=0)\n",
    "\n",
    "# Вывод результата\n",
    "print(f\"{res}\")"
   ]
  },
  {
   "cell_type": "code",
   "execution_count": 30,
   "id": "b61ce9a1-564f-415e-8abd-8463daf859b4",
   "metadata": {},
   "outputs": [
    {
     "name": "stdout",
     "output_type": "stream",
     "text": [
      "('Лиса; Лосось; Черепаха; Заяц; Волк; Тюлень', 5)\n"
     ]
    }
   ],
   "source": [
    "# Импорт модуля\n",
    "import re\n",
    "\n",
    "# Строка с текстом и шаблон\n",
    "text = \"Лиса Лосось Черепаха Заяц Волк Тюлень\"\n",
    "regexp_pattern = r\"\\s\"\n",
    "replace_value = \"; \"\n",
    "\n",
    "# Вызов функции subn()\n",
    "res = re.subn(regexp_pattern, replace_value, text, count=0)\n",
    "\n",
    "# Вывод результата\n",
    "print(f\"{res}\")"
   ]
  },
  {
   "cell_type": "code",
   "execution_count": 40,
   "id": "96e1590d-a279-4b87-b078-8983f0f80fe5",
   "metadata": {},
   "outputs": [
    {
     "name": "stdout",
     "output_type": "stream",
     "text": [
      "['Прив1ет,', 'мир!', 'Э2то', 'тесто4вая', 'строка.']\n",
      "['Прив', 'ет,\\tмир!  Э', 'то тесто', 'вая\\nстрока.']\n"
     ]
    }
   ],
   "source": [
    "# Импорт модуля\n",
    "import re\n",
    "\n",
    "# Строка с текстом и шаблон\n",
    "text = \"Прив1ет,\\tмир!  Э2то тесто4вая\\nстрока.\"\n",
    "regexp_pattern = r\"\\s+\"\n",
    "\n",
    "# Вызов функции split()\n",
    "res = re.split(regexp_pattern, text, maxsplit=0)\n",
    "res2 = re.split(r'\\d', text, maxsplit=0)\n",
    "\n",
    "# Вывод результата\n",
    "print(f\"{res}\")\n",
    "print(f\"{res2}\")"
   ]
  },
  {
   "cell_type": "code",
   "execution_count": 43,
   "id": "4e1b3d6c-bd22-4e1a-b6e7-b3d848563653",
   "metadata": {},
   "outputs": [
    {
     "name": "stdout",
     "output_type": "stream",
     "text": [
      "Это\\ строка\\ со\\ специальными\\ символами:\\ \\*\\ \\+\\ \\?\\ \\[\\ \\]\\ \\ \\.\n"
     ]
    }
   ],
   "source": [
    "# Импорт модуля\n",
    "import re\n",
    "\n",
    "# Строка с текстом\n",
    "text = \"Это строка со специальными символами: * + ? [ ]  .\"\n",
    "\n",
    "# Вызов функции escape()\n",
    "res = re.escape(text)\n",
    "\n",
    "# Вывод результата\n",
    "print(f\"{res}\")"
   ]
  },
  {
   "cell_type": "code",
   "execution_count": null,
   "id": "1397ab33-75a6-4978-a36c-07ade543a8b4",
   "metadata": {},
   "outputs": [],
   "source": []
  }
 ],
 "metadata": {
  "kernelspec": {
   "display_name": "Python 3 (ipykernel)",
   "language": "python",
   "name": "python3"
  },
  "language_info": {
   "codemirror_mode": {
    "name": "ipython",
    "version": 3
   },
   "file_extension": ".py",
   "mimetype": "text/x-python",
   "name": "python",
   "nbconvert_exporter": "python",
   "pygments_lexer": "ipython3",
   "version": "3.12.4"
  }
 },
 "nbformat": 4,
 "nbformat_minor": 5
}
